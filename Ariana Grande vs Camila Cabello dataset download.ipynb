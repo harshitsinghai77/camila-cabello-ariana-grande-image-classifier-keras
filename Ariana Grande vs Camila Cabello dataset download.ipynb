{
 "cells": [
  {
   "cell_type": "code",
   "execution_count": null,
   "metadata": {},
   "outputs": [],
   "source": [
    "import os\n",
    "import shutil\n",
    "from google_images_download import google_images_download"
   ]
  },
  {
   "cell_type": "markdown",
   "metadata": {},
   "source": [
    "### Data Collection"
   ]
  },
  {
   "cell_type": "code",
   "execution_count": null,
   "metadata": {},
   "outputs": [],
   "source": [
    "def dowload_matting_dataset(output_dir):\n",
    "\n",
    "    if not os.path.isdir(output_dir):\n",
    "        os.makedirs(output_dir)\n",
    "\n",
    "    response = google_images_download.googleimagesdownload()\n",
    "    response.download({\n",
    "        \"keywords\": \"ariana grande sexy\",\n",
    "        \"color_type\": \"full-color\",\n",
    "        \"format\": \"jpg\",\n",
    "        \"size\": \"medium\",\n",
    "        \"limit\": 1,\n",
    "        \"output_directory\": output_dir,\n",
    "        \"chromedriver\": \"chromedriver\\\\chromedriver.exe\"})\n",
    "\n",
    "    response = google_images_download.googleimagesdownload()\n",
    "    response.download({\n",
    "        \"keywords\": \"camila cabello latest\",\n",
    "        \"color_type\": \"full-color\",\n",
    "        \"format\": \"jpg\",\n",
    "        \"size\": \"medium\",\n",
    "        \"limit\": 50,\n",
    "        \"output_directory\": output_dir,\n",
    "        \"chromedriver\": \"chromedriver\\\\chromedriver.exe\"})"
   ]
  },
  {
   "cell_type": "code",
   "execution_count": null,
   "metadata": {},
   "outputs": [],
   "source": [
    "dowload_matting_dataset(\"data/\")"
   ]
  },
  {
   "cell_type": "markdown",
   "metadata": {},
   "source": [
    "## Data Preprocessing"
   ]
  },
  {
   "cell_type": "code",
   "execution_count": null,
   "metadata": {},
   "outputs": [],
   "source": [
    "len([name for name in os.listdir('data/ariana grande') if os.path.isfile(os.path.join('data/ariana grande', name))])"
   ]
  },
  {
   "cell_type": "code",
   "execution_count": null,
   "metadata": {},
   "outputs": [],
   "source": [
    "len([name for name in os.listdir('data/camila cabello') if os.path.isfile(os.path.join('data/camila cabello', name))])"
   ]
  },
  {
   "cell_type": "code",
   "execution_count": null,
   "metadata": {},
   "outputs": [],
   "source": [
    "ariana_total = os.listdir(\"data/ariana grande\")\n",
    "camila_total = os.listdir(\"data/camila cabello\")"
   ]
  },
  {
   "cell_type": "code",
   "execution_count": null,
   "metadata": {},
   "outputs": [],
   "source": [
    "training_ariana = ariana_total[:700]\n",
    "validation_ariana = ariana_total[700:900]\n",
    "test_ariana = ariana_total[900:1001]\n",
    "print(len(training_ariana))\n",
    "print(len(validation_ariana))\n",
    "print(len(test_ariana))\n",
    "\n",
    "print('\\nCamila Cabello')\n",
    "training_camila = camila_total[:700]\n",
    "validation_camila = camila_total[700:900]\n",
    "test_camila = camila_total[900:1001]\n",
    "print(len(training_camila))\n",
    "print(len(validation_camila))\n",
    "print(len(test_camila))"
   ]
  },
  {
   "cell_type": "code",
   "execution_count": null,
   "metadata": {},
   "outputs": [],
   "source": [
    "for names in training_ariana:\n",
    "    src = os.path.join('data/ariana grande', names);\n",
    "    dst = os.path.join('data/train/ariana', names);\n",
    "    shutil.copyfile(src,dst);\n",
    "    \n",
    "for names in training_camila:\n",
    "    src = os.path.join('data/camila cabello', names);\n",
    "    dst = os.path.join('data/train/camila', names);\n",
    "    shutil.copyfile(src,dst);"
   ]
  },
  {
   "cell_type": "code",
   "execution_count": null,
   "metadata": {},
   "outputs": [],
   "source": [
    "for names in validation_ariana:\n",
    "    src = os.path.join('data/ariana grande', names);\n",
    "    dst = os.path.join('data/validation/ariana', names);\n",
    "    shutil.copyfile(src,dst);\n",
    "    \n",
    "for names in validation_camila:\n",
    "    src = os.path.join('data/camila cabello', names);\n",
    "    dst = os.path.join('data/validation/camila', names);\n",
    "    shutil.copyfile(src,dst);"
   ]
  },
  {
   "cell_type": "code",
   "execution_count": null,
   "metadata": {},
   "outputs": [],
   "source": [
    "for names in test_ariana:\n",
    "    src = os.path.join('data/ariana grande', names);\n",
    "    dst = os.path.join('data/test/ariana', names);\n",
    "    shutil.copyfile(src,dst);\n",
    "    \n",
    "for names in test_camila:\n",
    "    src = os.path.join('data/camila cabello', names);\n",
    "    dst = os.path.join('data/test/camila', names);\n",
    "    shutil.copyfile(src,dst);"
   ]
  },
  {
   "cell_type": "code",
   "execution_count": null,
   "metadata": {},
   "outputs": [],
   "source": [
    "len([name for name in os.listdir('data/validation/ariana') if os.path.isfile(os.path.join('data/validation/ariana', name))])"
   ]
  },
  {
   "cell_type": "code",
   "execution_count": null,
   "metadata": {},
   "outputs": [],
   "source": []
  }
 ],
 "metadata": {
  "kernelspec": {
   "display_name": "Python 3",
   "language": "python",
   "name": "python3"
  },
  "language_info": {
   "codemirror_mode": {
    "name": "ipython",
    "version": 3
   },
   "file_extension": ".py",
   "mimetype": "text/x-python",
   "name": "python",
   "nbconvert_exporter": "python",
   "pygments_lexer": "ipython3",
   "version": "3.7.3"
  }
 },
 "nbformat": 4,
 "nbformat_minor": 2
}
